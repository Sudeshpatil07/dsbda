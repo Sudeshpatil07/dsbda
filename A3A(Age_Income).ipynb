{
 "cells": [
  {
   "cell_type": "code",
   "execution_count": 1,
   "id": "db4cda6e",
   "metadata": {},
   "outputs": [],
   "source": [
    "import pandas as pd"
   ]
  },
  {
   "cell_type": "code",
   "execution_count": 4,
   "id": "9dec6007",
   "metadata": {},
   "outputs": [],
   "source": [
    "df=pd.DataFrame()"
   ]
  },
  {
   "cell_type": "code",
   "execution_count": 5,
   "id": "55528aa9",
   "metadata": {},
   "outputs": [],
   "source": [
    "df['Age Group']=['Young Adult', 'Young Adult', 'Young Adult', 'Young Adult', \n",
    "                 'Mid Age Adult', 'Mid Age Adult',\n",
    "                 'Senior Adult', 'Senior Adult','Senior Adult', 'Senior Adult'] "
   ]
  },
  {
   "cell_type": "code",
   "execution_count": 6,
   "id": "c83e7a75",
   "metadata": {},
   "outputs": [],
   "source": [
    "df['Income']=[30000,35000,32000,33000, 50000,55000,75000,80000,78000,82000]"
   ]
  },
  {
   "cell_type": "code",
   "execution_count": 7,
   "id": "20c0c9bf",
   "metadata": {},
   "outputs": [
    {
     "data": {
      "text/html": [
       "<div>\n",
       "<style scoped>\n",
       "    .dataframe tbody tr th:only-of-type {\n",
       "        vertical-align: middle;\n",
       "    }\n",
       "\n",
       "    .dataframe tbody tr th {\n",
       "        vertical-align: top;\n",
       "    }\n",
       "\n",
       "    .dataframe thead th {\n",
       "        text-align: right;\n",
       "    }\n",
       "</style>\n",
       "<table border=\"1\" class=\"dataframe\">\n",
       "  <thead>\n",
       "    <tr style=\"text-align: right;\">\n",
       "      <th></th>\n",
       "      <th>Age Group</th>\n",
       "      <th>Income</th>\n",
       "    </tr>\n",
       "  </thead>\n",
       "  <tbody>\n",
       "    <tr>\n",
       "      <th>0</th>\n",
       "      <td>Young Adult</td>\n",
       "      <td>30000</td>\n",
       "    </tr>\n",
       "    <tr>\n",
       "      <th>1</th>\n",
       "      <td>Young Adult</td>\n",
       "      <td>35000</td>\n",
       "    </tr>\n",
       "    <tr>\n",
       "      <th>2</th>\n",
       "      <td>Young Adult</td>\n",
       "      <td>32000</td>\n",
       "    </tr>\n",
       "    <tr>\n",
       "      <th>3</th>\n",
       "      <td>Young Adult</td>\n",
       "      <td>33000</td>\n",
       "    </tr>\n",
       "    <tr>\n",
       "      <th>4</th>\n",
       "      <td>Mid Age Adult</td>\n",
       "      <td>50000</td>\n",
       "    </tr>\n",
       "    <tr>\n",
       "      <th>5</th>\n",
       "      <td>Mid Age Adult</td>\n",
       "      <td>55000</td>\n",
       "    </tr>\n",
       "    <tr>\n",
       "      <th>6</th>\n",
       "      <td>Senior Adult</td>\n",
       "      <td>75000</td>\n",
       "    </tr>\n",
       "    <tr>\n",
       "      <th>7</th>\n",
       "      <td>Senior Adult</td>\n",
       "      <td>80000</td>\n",
       "    </tr>\n",
       "    <tr>\n",
       "      <th>8</th>\n",
       "      <td>Senior Adult</td>\n",
       "      <td>78000</td>\n",
       "    </tr>\n",
       "    <tr>\n",
       "      <th>9</th>\n",
       "      <td>Senior Adult</td>\n",
       "      <td>82000</td>\n",
       "    </tr>\n",
       "  </tbody>\n",
       "</table>\n",
       "</div>"
      ],
      "text/plain": [
       "       Age Group  Income\n",
       "0    Young Adult   30000\n",
       "1    Young Adult   35000\n",
       "2    Young Adult   32000\n",
       "3    Young Adult   33000\n",
       "4  Mid Age Adult   50000\n",
       "5  Mid Age Adult   55000\n",
       "6   Senior Adult   75000\n",
       "7   Senior Adult   80000\n",
       "8   Senior Adult   78000\n",
       "9   Senior Adult   82000"
      ]
     },
     "execution_count": 7,
     "metadata": {},
     "output_type": "execute_result"
    }
   ],
   "source": [
    "df"
   ]
  },
  {
   "cell_type": "code",
   "execution_count": 8,
   "id": "6d135b0a",
   "metadata": {},
   "outputs": [
    {
     "name": "stdout",
     "output_type": "stream",
     "text": [
      "<class 'pandas.core.frame.DataFrame'>\n",
      "RangeIndex: 10 entries, 0 to 9\n",
      "Data columns (total 2 columns):\n",
      " #   Column     Non-Null Count  Dtype \n",
      "---  ------     --------------  ----- \n",
      " 0   Age Group  10 non-null     object\n",
      " 1   Income     10 non-null     int64 \n",
      "dtypes: int64(1), object(1)\n",
      "memory usage: 288.0+ bytes\n"
     ]
    }
   ],
   "source": [
    "df.info()"
   ]
  },
  {
   "cell_type": "code",
   "execution_count": 9,
   "id": "0579be05",
   "metadata": {},
   "outputs": [
    {
     "data": {
      "text/html": [
       "<div>\n",
       "<style scoped>\n",
       "    .dataframe tbody tr th:only-of-type {\n",
       "        vertical-align: middle;\n",
       "    }\n",
       "\n",
       "    .dataframe tbody tr th {\n",
       "        vertical-align: top;\n",
       "    }\n",
       "\n",
       "    .dataframe thead th {\n",
       "        text-align: right;\n",
       "    }\n",
       "</style>\n",
       "<table border=\"1\" class=\"dataframe\">\n",
       "  <thead>\n",
       "    <tr style=\"text-align: right;\">\n",
       "      <th></th>\n",
       "      <th>Income</th>\n",
       "    </tr>\n",
       "  </thead>\n",
       "  <tbody>\n",
       "    <tr>\n",
       "      <th>count</th>\n",
       "      <td>10.000000</td>\n",
       "    </tr>\n",
       "    <tr>\n",
       "      <th>mean</th>\n",
       "      <td>55000.000000</td>\n",
       "    </tr>\n",
       "    <tr>\n",
       "      <th>std</th>\n",
       "      <td>21974.732965</td>\n",
       "    </tr>\n",
       "    <tr>\n",
       "      <th>min</th>\n",
       "      <td>30000.000000</td>\n",
       "    </tr>\n",
       "    <tr>\n",
       "      <th>25%</th>\n",
       "      <td>33500.000000</td>\n",
       "    </tr>\n",
       "    <tr>\n",
       "      <th>50%</th>\n",
       "      <td>52500.000000</td>\n",
       "    </tr>\n",
       "    <tr>\n",
       "      <th>75%</th>\n",
       "      <td>77250.000000</td>\n",
       "    </tr>\n",
       "    <tr>\n",
       "      <th>max</th>\n",
       "      <td>82000.000000</td>\n",
       "    </tr>\n",
       "  </tbody>\n",
       "</table>\n",
       "</div>"
      ],
      "text/plain": [
       "             Income\n",
       "count     10.000000\n",
       "mean   55000.000000\n",
       "std    21974.732965\n",
       "min    30000.000000\n",
       "25%    33500.000000\n",
       "50%    52500.000000\n",
       "75%    77250.000000\n",
       "max    82000.000000"
      ]
     },
     "execution_count": 9,
     "metadata": {},
     "output_type": "execute_result"
    }
   ],
   "source": [
    "df.describe()"
   ]
  },
  {
   "cell_type": "code",
   "execution_count": 10,
   "id": "78bce2f7",
   "metadata": {},
   "outputs": [],
   "source": [
    "import seaborn as sns\n",
    "import matplotlib.pyplot as plt"
   ]
  },
  {
   "cell_type": "code",
   "execution_count": 11,
   "id": "eab69d5d",
   "metadata": {},
   "outputs": [
    {
     "data": {
      "text/plain": [
       "Text(0.5, 1.0, 'Age Group wise Boxplot of Income')"
      ]
     },
     "execution_count": 11,
     "metadata": {},
     "output_type": "execute_result"
    },
    {
     "data": {
      "image/png": "[encoded data removed]",
      "text/plain": [
       "<Figure size 640x480 with 1 Axes>"
      ]
     },
     "metadata": {},
     "output_type": "display_data"
    }
   ],
   "source": [
    "sns.boxplot(x='Age Group', y='Income', data=df)\n",
    "plt.xlabel('Age Group')\n",
    "plt.ylabel('Income')\n",
    "plt.title('Age Group wise Boxplot of Income')"
   ]
  },
  {
   "cell_type": "code",
   "execution_count": 12,
   "id": "d0a3813a",
   "metadata": {},
   "outputs": [
    {
     "name": "stdout",
     "output_type": "stream",
     "text": [
      "Age Group\n",
      "Mid Age Adult    52500.0\n",
      "Senior Adult     78750.0\n",
      "Young Adult      32500.0\n",
      "Name: Income, dtype: float64\n"
     ]
    }
   ],
   "source": [
    "print(df.groupby('Age Group')['Income'].mean())"
   ]
  },
  {
   "cell_type": "code",
   "execution_count": 13,
   "id": "3c41b11f",
   "metadata": {},
   "outputs": [
    {
     "name": "stdout",
     "output_type": "stream",
     "text": [
      "Age Group\n",
      "Mid Age Adult    52500.0\n",
      "Senior Adult     79000.0\n",
      "Young Adult      32500.0\n",
      "Name: Income, dtype: float64\n"
     ]
    }
   ],
   "source": [
    "print(df.groupby('Age Group')['Income'].median())"
   ]
  },
  {
   "cell_type": "code",
   "execution_count": 14,
   "id": "18feea25",
   "metadata": {},
   "outputs": [
    {
     "data": {
      "text/plain": [
       "0    30000\n",
       "1    32000\n",
       "2    33000\n",
       "3    35000\n",
       "4    50000\n",
       "5    55000\n",
       "6    75000\n",
       "7    78000\n",
       "8    80000\n",
       "9    82000\n",
       "Name: Income, dtype: int64"
      ]
     },
     "execution_count": 14,
     "metadata": {},
     "output_type": "execute_result"
    }
   ],
   "source": [
    "df['Income'].mode()"
   ]
  },
  {
   "cell_type": "code",
   "execution_count": 15,
   "id": "bf818099",
   "metadata": {},
   "outputs": [
    {
     "data": {
      "text/plain": [
       "0    Senior Adult\n",
       "1     Young Adult\n",
       "Name: Age Group, dtype: object"
      ]
     },
     "execution_count": 15,
     "metadata": {},
     "output_type": "execute_result"
    }
   ],
   "source": [
    "df['Age Group'].mode()"
   ]
  },
  {
   "cell_type": "code",
   "execution_count": 16,
   "id": "ce3f316d",
   "metadata": {},
   "outputs": [
    {
     "name": "stdout",
     "output_type": "stream",
     "text": [
      "Age Group\n",
      "Mid Age Adult    50000\n",
      "Senior Adult     75000\n",
      "Young Adult      30000\n",
      "Name: Income, dtype: int64\n"
     ]
    }
   ],
   "source": [
    "print(df.groupby('Age Group')['Income'].min())"
   ]
  },
  {
   "cell_type": "code",
   "execution_count": 17,
   "id": "a450f5ea",
   "metadata": {},
   "outputs": [
    {
     "name": "stdout",
     "output_type": "stream",
     "text": [
      "Age Group\n",
      "Mid Age Adult    55000\n",
      "Senior Adult     82000\n",
      "Young Adult      35000\n",
      "Name: Income, dtype: int64\n"
     ]
    }
   ],
   "source": [
    "print(df.groupby('Age Group')['Income'].max())"
   ]
  },
  {
   "cell_type": "code",
   "execution_count": 18,
   "id": "02fcbe43",
   "metadata": {},
   "outputs": [
    {
     "name": "stdout",
     "output_type": "stream",
     "text": [
      "Age Group\n",
      "Mid Age Adult    3535.533906\n",
      "Senior Adult     2986.078811\n",
      "Young Adult      2081.665999\n",
      "Name: Income, dtype: float64\n"
     ]
    }
   ],
   "source": [
    "print(df.groupby('Age Group')['Income'].std())"
   ]
  },
  {
   "cell_type": "code",
   "execution_count": 19,
   "id": "9a80f30f",
   "metadata": {},
   "outputs": [
    {
     "name": "stdout",
     "output_type": "stream",
     "text": [
      "               count     mean          std      min      25%      50%  \\\n",
      "Age Group                                                               \n",
      "Mid Age Adult    2.0  52500.0  3535.533906  50000.0  51250.0  52500.0   \n",
      "Senior Adult     4.0  78750.0  2986.078811  75000.0  77250.0  79000.0   \n",
      "Young Adult      4.0  32500.0  2081.665999  30000.0  31500.0  32500.0   \n",
      "\n",
      "                   75%      max  \n",
      "Age Group                        \n",
      "Mid Age Adult  53750.0  55000.0  \n",
      "Senior Adult   80500.0  82000.0  \n",
      "Young Adult    33500.0  35000.0  \n"
     ]
    }
   ],
   "source": [
    "print(df.groupby('Age Group')['Income'].describe())"
   ]
  }
 ],
 "metadata": {
  "kernelspec": {
   "display_name": "Python 3 (ipykernel)",
   "language": "python",
   "name": "python3"
  },
  "language_info": {
   "codemirror_mode": {
    "name": "ipython",
    "version": 3
   },
   "file_extension": ".py",
   "mimetype": "text/x-python",
   "name": "python",
   "nbconvert_exporter": "python",
   "pygments_lexer": "ipython3",
   "version": "3.11.7"
  }
 },
 "nbformat": 4,
 "nbformat_minor": 5
}
