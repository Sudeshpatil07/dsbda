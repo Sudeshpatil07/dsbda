{
 "cells": [
  {
   "cell_type": "markdown",
   "metadata": {
    "id": "2ohUijUJjJ2d"
   },
   "source": [
    "\n",
    "DSBDA Practical No A-7: Text Analytics\n",
    " 1. Extract Sample document and apply following document preprocessing methods: Tokenization, POS Tagging, stop words removal, Stemming and Lemmatization.\n",
    " 2. Create representation of document by calculating Term Frequency and Inverse Document Frequency."
   ]
  },
  {
   "cell_type": "code",
   "execution_count": null,
   "metadata": {
    "colab": {
     "base_uri": "https://localhost:8080/"
    },
    "id": "kedzTKFRjj0b",
    "outputId": "2d4d2240-d87b-45ad-fcde-0088e440ddf5"
   },
   "outputs": [
    {
     "name": "stdout",
     "output_type": "stream",
     "text": [
      "Requirement already satisfied: nltk in /usr/local/lib/python3.11/dist-packages (3.9.1)\n",
      "Requirement already satisfied: scikit-learn in /usr/local/lib/python3.11/dist-packages (1.6.1)\n",
      "Requirement already satisfied: click in /usr/local/lib/python3.11/dist-packages (from nltk) (8.1.8)\n",
      "Requirement already satisfied: joblib in /usr/local/lib/python3.11/dist-packages (from nltk) (1.4.2)\n",
      "Requirement already satisfied: regex>=2021.8.3 in /usr/local/lib/python3.11/dist-packages (from nltk) (2024.11.6)\n",
      "Requirement already satisfied: tqdm in /usr/local/lib/python3.11/dist-packages (from nltk) (4.67.1)\n",
      "Requirement already satisfied: numpy>=1.19.5 in /usr/local/lib/python3.11/dist-packages (from scikit-learn) (2.0.2)\n",
      "Requirement already satisfied: scipy>=1.6.0 in /usr/local/lib/python3.11/dist-packages (from scikit-learn) (1.14.1)\n",
      "Requirement already satisfied: threadpoolctl>=3.1.0 in /usr/local/lib/python3.11/dist-packages (from scikit-learn) (3.6.0)\n"
     ]
    }
   ],
   "source": [
    "pip install nltk scikit-learn"
   ]
  },
  {
   "cell_type": "code",
   "execution_count": null,
   "metadata": {
    "id": "HpgQUC4ljolP"
   },
   "outputs": [],
   "source": [
    "import nltk\n",
    "from nltk.corpus import stopwords\n",
    "from nltk.tokenize import word_tokenize\n",
    "from nltk import pos_tag\n",
    "from nltk.stem import PorterStemmer, WordNetLemmatizer\n",
    "from sklearn.feature_extraction.text import TfidfVectorizer\n",
    "import string"
   ]
  },
  {
   "cell_type": "code",
   "execution_count": null,
   "metadata": {
    "colab": {
     "base_uri": "https://localhost:8080/"
    },
    "id": "Df3_bzVjjugW",
    "outputId": "229dffd9-4bda-4e8e-eda9-90d4c4905806"
   },
   "outputs": [
    {
     "name": "stderr",
     "output_type": "stream",
     "text": [
      "[nltk_data] Downloading package punkt to /root/nltk_data...\n",
      "[nltk_data]   Unzipping tokenizers/punkt.zip.\n",
      "[nltk_data] Downloading package averaged_perceptron_tagger to\n",
      "[nltk_data]     /root/nltk_data...\n",
      "[nltk_data]   Unzipping taggers/averaged_perceptron_tagger.zip.\n",
      "[nltk_data] Downloading package stopwords to /root/nltk_data...\n",
      "[nltk_data]   Unzipping corpora/stopwords.zip.\n",
      "[nltk_data] Downloading package wordnet to /root/nltk_data...\n"
     ]
    },
    {
     "data": {
      "text/plain": [
       "True"
      ]
     },
     "execution_count": 3,
     "metadata": {},
     "output_type": "execute_result"
    }
   ],
   "source": [
    "# Download necessary NLTK datasets\n",
    "nltk.download('punkt')\n",
    "nltk.download('averaged_perceptron_tagger')\n",
    "nltk.download('stopwords')\n",
    "nltk.download('wordnet')"
   ]
  },
  {
   "cell_type": "code",
   "execution_count": null,
   "metadata": {
    "id": "jinxT6JMjxOZ"
   },
   "outputs": [],
   "source": [
    "# Input text\n",
    "text = \"Machine learning is very very important because it allows computers to learn from data.\""
   ]
  },
  {
   "cell_type": "code",
   "execution_count": null,
   "metadata": {
    "colab": {
     "base_uri": "https://localhost:8080/"
    },
    "id": "hHykSKB0j1Xx",
    "outputId": "198bee32-2fb1-4c90-ca48-690c847ad3e3"
   },
   "outputs": [
    {
     "name": "stderr",
     "output_type": "stream",
     "text": [
      "[nltk_data] Downloading package punkt_tab to /root/nltk_data...\n",
      "[nltk_data]   Unzipping tokenizers/punkt_tab.zip.\n"
     ]
    },
    {
     "data": {
      "text/plain": [
       "True"
      ]
     },
     "execution_count": 5,
     "metadata": {},
     "output_type": "execute_result"
    }
   ],
   "source": [
    "nltk.download('punkt_tab')"
   ]
  },
  {
   "cell_type": "code",
   "execution_count": null,
   "metadata": {
    "colab": {
     "base_uri": "https://localhost:8080/"
    },
    "id": "D_l_mIkTj3FP",
    "outputId": "f73940e0-20db-46ca-9365-1ff6aa321fd8"
   },
   "outputs": [
    {
     "data": {
      "text/plain": [
       "['Machine',\n",
       " 'learning',\n",
       " 'is',\n",
       " 'very',\n",
       " 'very',\n",
       " 'important',\n",
       " 'because',\n",
       " 'it',\n",
       " 'allows',\n",
       " 'computers',\n",
       " 'to',\n",
       " 'learn',\n",
       " 'from',\n",
       " 'data',\n",
       " '.']"
      ]
     },
     "execution_count": 6,
     "metadata": {},
     "output_type": "execute_result"
    }
   ],
   "source": [
    "# Step 1: Tokenization\n",
    "tokens = word_tokenize(text)\n",
    "tokens"
   ]
  },
  {
   "cell_type": "code",
   "execution_count": null,
   "metadata": {
    "colab": {
     "base_uri": "https://localhost:8080/"
    },
    "id": "IX6scO7_j48-",
    "outputId": "88b85ea6-488a-4006-95f9-ed7512e7f3c2"
   },
   "outputs": [
    {
     "name": "stderr",
     "output_type": "stream",
     "text": [
      "[nltk_data] Downloading package averaged_perceptron_tagger_eng to\n",
      "[nltk_data]     /root/nltk_data...\n",
      "[nltk_data]   Unzipping taggers/averaged_perceptron_tagger_eng.zip.\n"
     ]
    },
    {
     "data": {
      "text/plain": [
       "True"
      ]
     },
     "execution_count": 7,
     "metadata": {},
     "output_type": "execute_result"
    }
   ],
   "source": [
    "nltk.download('averaged_perceptron_tagger_eng')"
   ]
  },
  {
   "cell_type": "code",
   "execution_count": null,
   "metadata": {
    "colab": {
     "base_uri": "https://localhost:8080/"
    },
    "id": "xrqdCds-j7kv",
    "outputId": "a2b03f66-c7a5-47d3-b0bc-ce3640775758"
   },
   "outputs": [
    {
     "data": {
      "text/plain": [
       "[('Machine', 'NN'),\n",
       " ('learning', 'NN'),\n",
       " ('is', 'VBZ'),\n",
       " ('very', 'RB'),\n",
       " ('very', 'RB'),\n",
       " ('important', 'JJ'),\n",
       " ('because', 'IN'),\n",
       " ('it', 'PRP'),\n",
       " ('allows', 'VBZ'),\n",
       " ('computers', 'NNS'),\n",
       " ('to', 'TO'),\n",
       " ('learn', 'VB'),\n",
       " ('from', 'IN'),\n",
       " ('data', 'NNS'),\n",
       " ('.', '.')]"
      ]
     },
     "execution_count": 8,
     "metadata": {},
     "output_type": "execute_result"
    }
   ],
   "source": [
    "# Step 2: POS Tagging\n",
    "pos_tags = pos_tag(tokens)\n",
    "pos_tags"
   ]
  },
  {
   "cell_type": "code",
   "execution_count": null,
   "metadata": {
    "colab": {
     "base_uri": "https://localhost:8080/"
    },
    "id": "BbOck4a4j-vW",
    "outputId": "f9e5e923-a037-4c21-90ff-f75b75cfab9c"
   },
   "outputs": [
    {
     "name": "stdout",
     "output_type": "stream",
     "text": [
      "{'didn', 'whom', 'they', 'my', 'y', 'each', 'll', 'that', 'weren', 'but', 'on', 'some', 'same', 'there', \"he's\", 'yourselves', \"he'll\", 'where', 'below', \"didn't\", 't', 'itself', \"i'll\", 'himself', 'if', 'me', \"they'd\", 'ma', \"isn't\", 'just', \"they're\", 'mightn', 'with', \"you'll\", 'further', 'too', 'only', 'than', 'who', \"we'd\", 'is', 'has', \"hadn't\", 'wasn', \"weren't\", 'doesn', 'again', 'was', 'a', 'why', \"doesn't\", 'you', 'other', 'over', 'through', \"you're\", 'have', 'it', 'the', 'to', \"i've\", \"hasn't\", 'don', 'your', 'can', 'ourselves', 'd', 'such', 'doing', 'theirs', 'what', 'ain', 'ours', \"they'll\", \"we've\", 'an', 'once', \"needn't\", \"mightn't\", \"mustn't\", \"we'll\", 'very', 'shouldn', \"wasn't\", 'while', \"she'll\", 'yourself', 'both', 'their', \"don't\", \"couldn't\", 'which', 'how', \"wouldn't\", 'for', 'nor', 's', \"it's\", 'by', \"shouldn't\", \"you'd\", 'isn', 'been', 'own', \"we're\", 'haven', 'had', 'i', 'themselves', 'not', 've', 'under', 'hasn', 'hers', 'herself', 'hadn', 'out', \"won't\", 'its', 'because', 'about', 'wouldn', 'are', 'do', 'all', 'or', 'aren', 'her', 'she', \"she's\", 'at', 'above', 'here', 'into', 'those', 'did', \"it'd\", \"it'll\", 'more', \"aren't\", 'off', 'before', 'in', 'mustn', 'our', 'couldn', 'these', 'needn', 'him', 'be', 'will', 'any', 'he', \"haven't\", 'we', 'up', 'should', 'and', 'having', 'shan', 'yours', 'them', 'does', \"i'm\", 'no', 'his', 'am', 'this', \"i'd\", \"should've\", 'o', 'from', 'were', 'until', \"she'd\", \"you've\", 'as', 'when', 'between', 'myself', 'so', 'against', \"that'll\", 'now', 'then', 'm', \"they've\", 'won', 'after', 're', 'of', 'few', 'down', \"he'd\", 'being', \"shan't\", 'during', 'most'}\n"
     ]
    }
   ],
   "source": [
    "# Step 3: Stop Words Removal\n",
    "stop_words = set(stopwords.words('english'))\n",
    "print(stop_words)"
   ]
  },
  {
   "cell_type": "code",
   "execution_count": null,
   "metadata": {
    "colab": {
     "base_uri": "https://localhost:8080/"
    },
    "id": "6E_KFT_QkA2K",
    "outputId": "af6bc1cb-c29e-4243-e7de-45bf9baad8be"
   },
   "outputs": [
    {
     "data": {
      "text/plain": [
       "['Machine', 'learning', 'important', 'allows', 'computers', 'learn', 'data']"
      ]
     },
     "execution_count": 10,
     "metadata": {},
     "output_type": "execute_result"
    }
   ],
   "source": [
    "filtered_tokens = [word for word in tokens if word.lower() not in stop_words and word not in string.punctuation]\n",
    "filtered_tokens"
   ]
  },
  {
   "cell_type": "code",
   "execution_count": null,
   "metadata": {
    "colab": {
     "base_uri": "https://localhost:8080/"
    },
    "id": "zW7RicvnkCs3",
    "outputId": "70aa7071-134c-4654-ba97-83d366202ee9"
   },
   "outputs": [
    {
     "data": {
      "text/plain": [
       "['machin', 'learn', 'import', 'allow', 'comput', 'learn', 'data']"
      ]
     },
     "execution_count": 11,
     "metadata": {},
     "output_type": "execute_result"
    }
   ],
   "source": [
    "# Step 4: Stemming\n",
    "stemmer = PorterStemmer()\n",
    "stemmed_tokens = [stemmer.stem(word) for word in filtered_tokens]\n",
    "stemmed_tokens"
   ]
  },
  {
   "cell_type": "code",
   "execution_count": null,
   "metadata": {
    "colab": {
     "base_uri": "https://localhost:8080/"
    },
    "id": "KvsmamrnkEvX",
    "outputId": "182f4c9f-8e6b-49b5-81d6-248f016c8fc2"
   },
   "outputs": [
    {
     "data": {
      "text/plain": [
       "['Machine', 'learning', 'important', 'allows', 'computer', 'learn', 'data']"
      ]
     },
     "execution_count": 12,
     "metadata": {},
     "output_type": "execute_result"
    }
   ],
   "source": [
    "# Step 5: Lemmatization\n",
    "lemmatizer = WordNetLemmatizer()\n",
    "lemmatized_tokens = [lemmatizer.lemmatize(word) for word in filtered_tokens]\n",
    "lemmatized_tokens"
   ]
  },
  {
   "cell_type": "code",
   "execution_count": null,
   "metadata": {
    "colab": {
     "base_uri": "https://localhost:8080/"
    },
    "id": "w6ZtQk7UkGrb",
    "outputId": "9665d81f-53bf-4812-8c8f-db5575b7161c"
   },
   "outputs": [
    {
     "data": {
      "text/plain": [
       "{'Machine': 0.14285714285714285,\n",
       " 'learning': 0.14285714285714285,\n",
       " 'important': 0.14285714285714285,\n",
       " 'allows': 0.14285714285714285,\n",
       " 'computers': 0.14285714285714285,\n",
       " 'learn': 0.14285714285714285,\n",
       " 'data': 0.14285714285714285}"
      ]
     },
     "execution_count": 13,
     "metadata": {},
     "output_type": "execute_result"
    }
   ],
   "source": [
    "# Step 6: Term Frequency (TF)\n",
    "word_count = len(filtered_tokens)\n",
    "tf = {word: filtered_tokens.count(word) / word_count for word in filtered_tokens}\n",
    "tf"
   ]
  },
  {
   "cell_type": "code",
   "execution_count": null,
   "metadata": {
    "id": "MSJEF6BzkJBX"
   },
   "outputs": [],
   "source": [
    "# Step 7: Inverse Document Frequency\n",
    "import math"
   ]
  },
  {
   "cell_type": "code",
   "execution_count": null,
   "metadata": {
    "id": "naPBdPLakLyl"
   },
   "outputs": [],
   "source": [
    "def calculate_idf(filtered_tokens, total_documents):\n",
    "    idf_values = {word: math.log(total_documents / 1) for word in filtered_tokens} # log(1) = 0\n",
    "    return idf_values"
   ]
  },
  {
   "cell_type": "code",
   "execution_count": null,
   "metadata": {
    "id": "tJiIi79-kN1H"
   },
   "outputs": [],
   "source": [
    "# Given filtered tokens\n",
    "filtered_tokens = ['Machine', 'learning', 'important', 'allows', 'computers', 'learn', 'data']"
   ]
  },
  {
   "cell_type": "code",
   "execution_count": null,
   "metadata": {
    "id": "gFonb4MAkirf"
   },
   "outputs": [],
   "source": [
    "# Total number of documents (since we have only one document, N = 1)\n",
    "total_documents = 1"
   ]
  },
  {
   "cell_type": "code",
   "execution_count": null,
   "metadata": {
    "id": "yxBkfGcRkp5H"
   },
   "outputs": [],
   "source": [
    "# Calculate IDF\n",
    "idf_results = calculate_idf(filtered_tokens, total_documents)"
   ]
  },
  {
   "cell_type": "code",
   "execution_count": null,
   "metadata": {
    "colab": {
     "base_uri": "https://localhost:8080/"
    },
    "id": "Kt9Cik71kso3",
    "outputId": "9faa6283-88c7-459b-a5fb-d5a475635cb6"
   },
   "outputs": [
    {
     "name": "stdout",
     "output_type": "stream",
     "text": [
      "IDF values for the given words:\n",
      "Machine: 0.0\n",
      "learning: 0.0\n",
      "important: 0.0\n",
      "allows: 0.0\n",
      "computers: 0.0\n",
      "learn: 0.0\n",
      "data: 0.0\n"
     ]
    }
   ],
   "source": [
    "# Print IDF values\n",
    "print(\"IDF values for the given words:\")\n",
    "for word, idf in idf_results.items():\n",
    "  print(f\"{word}: {idf}\")"
   ]
  },
  {
   "cell_type": "code",
   "execution_count": null,
   "metadata": {
    "id": "V9-KYdLkkvA-"
   },
   "outputs": [],
   "source": [
    "# Step 8: TF-IDF=> Term Frequency-Inverse Document Frequency"
   ]
  },
  {
   "cell_type": "code",
   "execution_count": null,
   "metadata": {
    "id": "20OseSeTk8X-"
   },
   "outputs": [],
   "source": [
    "def calculate_tf_idf(tf_values, idf_values):\n",
    "  tf_idf_values = {word: tf_values[word] * idf_values[word] for word in tf_values}\n",
    "  return tf_idf_values"
   ]
  },
  {
   "cell_type": "code",
   "execution_count": null,
   "metadata": {
    "id": "J6Ih4Dx5lErX"
   },
   "outputs": [],
   "source": [
    "tf_idf_results = calculate_tf_idf(tf, idf_results)"
   ]
  },
  {
   "cell_type": "code",
   "execution_count": null,
   "metadata": {
    "colab": {
     "base_uri": "https://localhost:8080/"
    },
    "id": "0psL2JhqlEkz",
    "outputId": "f8373a8c-42e1-4f8a-c301-ce9fa46714f8"
   },
   "outputs": [
    {
     "name": "stdout",
     "output_type": "stream",
     "text": [
      "TF-IDF values for the given words:\n",
      "Machine: 0.0\n",
      "learning: 0.0\n",
      "important: 0.0\n",
      "allows: 0.0\n",
      "computers: 0.0\n",
      "learn: 0.0\n",
      "data: 0.0\n"
     ]
    }
   ],
   "source": [
    "# Print TF-IDF values\n",
    "print(\"TF-IDF values for the given words:\")\n",
    "for word, tf_idf in tf_idf_results.items():\n",
    "  print(f\"{word}: {tf_idf}\")"
   ]
  },
  {
   "cell_type": "code",
   "execution_count": null,
   "metadata": {
    "id": "C5NFG1xElK4R"
   },
   "outputs": [],
   "source": [
    "##### End of Program #####"
   ]
  },
  {
   "cell_type": "code",
   "execution_count": null,
   "metadata": {
    "id": "Rc0itXvIlQMG"
   },
   "outputs": [],
   "source": [
    "# Alternate Method for all above steps\n",
    "# Use TfidfVectorizer() from scikit-learn\n",
    "# Handles preprocessing automatically (removes stop words, normalizes words)"
   ]
  },
  {
   "cell_type": "code",
   "execution_count": null,
   "metadata": {
    "id": "43xnvRghlSnx"
   },
   "outputs": [],
   "source": [
    "text_filtered = \"Machine learning important allows computers learn data\""
   ]
  },
  {
   "cell_type": "code",
   "execution_count": null,
   "metadata": {
    "id": "Vxxp-B2ClU3W"
   },
   "outputs": [],
   "source": [
    "vectorizer = TfidfVectorizer()\n",
    "tfidf_matrix = vectorizer.fit_transform([text_filtered])"
   ]
  },
  {
   "cell_type": "code",
   "execution_count": null,
   "metadata": {
    "id": "kW0Zj4EwldXM"
   },
   "outputs": [],
   "source": [
    "# Extract feature names (words) from the vectorizer\n",
    "tfidf_feature_names = vectorizer.get_feature_names_out()"
   ]
  },
  {
   "cell_type": "code",
   "execution_count": null,
   "metadata": {
    "colab": {
     "base_uri": "https://localhost:8080/"
    },
    "id": "s79w2KfDlgIw",
    "outputId": "575e7d78-90e2-4226-b5bb-49ebba2f3256"
   },
   "outputs": [
    {
     "name": "stdout",
     "output_type": "stream",
     "text": [
      "\n",
      "Word\tTF\tIDF\tTF-IDF\n",
      "allows\t0.1429\t1.0000\t0.3780\n",
      "computers\t0.1429\t1.0000\t0.3780\n",
      "data\t0.1429\t1.0000\t0.3780\n",
      "important\t0.1429\t1.0000\t0.3780\n",
      "learn\t0.1429\t1.0000\t0.3780\n",
      "learning\t0.1429\t1.0000\t0.3780\n",
      "machine\t0.0000\t1.0000\t0.3780\n"
     ]
    }
   ],
   "source": [
    "# Display TF, IDF, and TF-IDF values\n",
    "print(\"\\nWord\\tTF\\tIDF\\tTF-IDF\")\n",
    "for i, word in enumerate(tfidf_feature_names):\n",
    "  idf = vectorizer._tfidf.idf_[i] # Access IDF value from the vectorizer\n",
    "  tfidf_value = tfidf_matrix[0, i]\n",
    "  print(f\"{word}\\t{tf.get(word, 0):.4f}\\t{idf:.4f}\\t{tfidf_value:.4f}\")"
   ]
  },
  {
   "cell_type": "code",
   "execution_count": null,
   "metadata": {
    "id": "-HKjnla8liLl"
   },
   "outputs": [],
   "source": [
    "# TfidfVectorizer() gives different results than manual calculations because of\n",
    "# default settings like sublinear TF scaling, smoothing, stop-word removal, L2 Normalization etc"
   ]
  },
  {
   "cell_type": "code",
   "execution_count": null,
   "metadata": {
    "id": "A-rIf8ralqR9"
   },
   "outputs": [],
   "source": []
  }
 ],
 "metadata": {
  "colab": {
   "provenance": []
  },
  "kernelspec": {
   "display_name": "Python 3 (ipykernel)",
   "language": "python",
   "name": "python3"
  },
  "language_info": {
   "codemirror_mode": {
    "name": "ipython",
    "version": 3
   },
   "file_extension": ".py",
   "mimetype": "text/x-python",
   "name": "python",
   "nbconvert_exporter": "python",
   "pygments_lexer": "ipython3",
   "version": "3.11.7"
  }
 },
 "nbformat": 4,
 "nbformat_minor": 4
}
